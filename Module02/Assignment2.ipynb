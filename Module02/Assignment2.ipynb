{
 "cells": [
  {
   "cell_type": "markdown",
   "id": "f45f9386",
   "metadata": {},
   "source": [
    "# Assignment 2\n",
    "\n",
    "## 1.  Wine Quality Dataset [60 Points]\n",
    "\n",
    "The Wine Quality dataset is available in the UCI Machine Learning Repository, download the Wine Quality dataset [HERE](https://archive.ics.uci.edu/dataset/186/wine+quality). \n",
    "\n",
    "The dataset consists of two separate datasets that we will combine to create a new combined dataset. One dataset contains red wine samples and the other contains white\n",
    "wine samples. Each sample consists of several physicochemical features (e.g., pH, alcohol content) and a quality rating between 0 and 10.\n",
    "\n",
    "1. Use pandas to load both datasets into separate DataFrames. \n",
    "2. Add a new column to each DataFrame to identify the wine type: red or white. \n",
    "    - For example, add a column named wineType with a value of \"red\" to the red wine DataFrame, \n",
    "    - and add a column named wineType with a value of \"white\" to the white wine DataFrame.\n",
    "3. Concatenate the two DataFrames into a single DataFrame using the pandas. \n",
    "    - Make sure to set the ignore index parameter to True to reset the index of the combined DataFrame. \n",
    "4. You now have a single DataFrame containing both the red and white wine datasets combined"
   ]
  },
  {
   "cell_type": "code",
   "execution_count": 5,
   "id": "69492ea3",
   "metadata": {},
   "outputs": [],
   "source": [
    "import pandas as pd\n",
    "import numpy as np"
   ]
  },
  {
   "cell_type": "code",
   "execution_count": 6,
   "id": "511466fb",
   "metadata": {},
   "outputs": [
    {
     "name": "stdout",
     "output_type": "stream",
     "text": [
      "Red wine shape: (1599, 12)\n",
      "Red wine columns: Index(['fixed acidity', 'volatile acidity', 'citric acid', 'residual sugar',\n",
      "       'chlorides', 'free sulfur dioxide', 'total sulfur dioxide', 'density',\n",
      "       'pH', 'sulphates', 'alcohol', 'quality'],\n",
      "      dtype='object')\n",
      "White wine shape: (4898, 12)\n",
      "White wine columns: Index(['fixed acidity', 'volatile acidity', 'citric acid', 'residual sugar',\n",
      "       'chlorides', 'free sulfur dioxide', 'total sulfur dioxide', 'density',\n",
      "       'pH', 'sulphates', 'alcohol', 'quality'],\n",
      "      dtype='object')\n"
     ]
    }
   ],
   "source": [
    "# STEP 1: Load the dataset\n",
    "df_red = pd.read_csv('/workspaces/NU-CS-6220/Module02/data/winequality-red.csv', sep=';')\n",
    "df_white = pd.read_csv('/workspaces/NU-CS-6220/Module02/data/winequality-white.csv', sep=';')\n",
    "\n",
    "# ouptut the df shape and column names\n",
    "print(f\"Red wine shape: {df_red.shape}\")\n",
    "print(f\"Red wine columns: {df_red.columns}\")\n",
    "\n",
    "print(f\"White wine shape: {df_white.shape}\")\n",
    "print(f\"White wine columns: {df_white.columns}\")\n"
   ]
  },
  {
   "cell_type": "code",
   "execution_count": 7,
   "id": "4d8b3462",
   "metadata": {},
   "outputs": [
    {
     "name": "stdout",
     "output_type": "stream",
     "text": [
      "Red wine shape: (1599, 13)\n",
      "Red wine columns: Index(['fixed acidity', 'volatile acidity', 'citric acid', 'residual sugar',\n",
      "       'chlorides', 'free sulfur dioxide', 'total sulfur dioxide', 'density',\n",
      "       'pH', 'sulphates', 'alcohol', 'quality', 'color'],\n",
      "      dtype='object')\n",
      "White wine shape: (4898, 13)\n",
      "White wine columns: Index(['fixed acidity', 'volatile acidity', 'citric acid', 'residual sugar',\n",
      "       'chlorides', 'free sulfur dioxide', 'total sulfur dioxide', 'density',\n",
      "       'pH', 'sulphates', 'alcohol', 'quality', 'color'],\n",
      "      dtype='object')\n"
     ]
    }
   ],
   "source": [
    "#STEP 2: add a column to indicate the color of the wine\n",
    "df_red['color'] = 'red'\n",
    "df_white['color'] = 'white'\n",
    "\n",
    "# ouptut the df shape and column names, again\n",
    "print(f\"Red wine shape: {df_red.shape}\")\n",
    "print(f\"Red wine columns: {df_red.columns}\")\n",
    "\n",
    "print(f\"White wine shape: {df_white.shape}\")\n",
    "print(f\"White wine columns: {df_white.columns}\")"
   ]
  },
  {
   "cell_type": "code",
   "execution_count": 8,
   "id": "9de29d0c",
   "metadata": {},
   "outputs": [
    {
     "name": "stdout",
     "output_type": "stream",
     "text": [
      "Combined wine shape: (6497, 13)\n",
      "Combined wine columns: Index(['fixed acidity', 'volatile acidity', 'citric acid', 'residual sugar',\n",
      "       'chlorides', 'free sulfur dioxide', 'total sulfur dioxide', 'density',\n",
      "       'pH', 'sulphates', 'alcohol', 'quality', 'color'],\n",
      "      dtype='object')\n"
     ]
    }
   ],
   "source": [
    "# STEP 3: Concatenate the two dataframes\n",
    "df = pd.concat([df_red, df_white], ignore_index=True)\n",
    "\n",
    "# ouptut the df shape and column names, again\n",
    "print(f\"Combined wine shape: {df.shape}\")\n",
    "print(f\"Combined wine columns: {df.columns}\")\n",
    "\n",
    "# STEP 4: Save the combined dataframe to a new CSV file\n",
    "df.to_csv('/workspaces/NU-CS-6220/Module02/data/winequality.csv', index=False)"
   ]
  },
  {
   "cell_type": "markdown",
   "id": "06415f82",
   "metadata": {},
   "source": [
    "### 1.1 Summary Statistics [10 Points]\n",
    "\n",
    "Compute and display summary statistics for each feature available in the dataset. These must include:\n",
    "\n",
    "1. minimum value\n",
    "2. maximum value\n",
    "3. mean\n",
    "4. range\n",
    "5. standard deviation\n",
    "6. variance\n",
    "7. count\n",
    "8. 25:50:75 percentiles\n",
    "\n"
   ]
  },
  {
   "cell_type": "code",
   "execution_count": 9,
   "id": "08d5922d",
   "metadata": {},
   "outputs": [
    {
     "name": "stdout",
     "output_type": "stream",
     "text": [
      "\n",
      "Summary statistics for each feature available in the dataset:\n",
      "       fixed acidity  volatile acidity  citric acid  residual sugar  \\\n",
      "count    6497.000000       6497.000000  6497.000000     6497.000000   \n",
      "mean        7.215307          0.339666     0.318633        5.443235   \n",
      "std         1.296434          0.164636     0.145318        4.757804   \n",
      "min         3.800000          0.080000     0.000000        0.600000   \n",
      "25%         6.400000          0.230000     0.250000        1.800000   \n",
      "50%         7.000000          0.290000     0.310000        3.000000   \n",
      "75%         7.700000          0.400000     0.390000        8.100000   \n",
      "max        15.900000          1.580000     1.660000       65.800000   \n",
      "\n",
      "         chlorides  free sulfur dioxide  total sulfur dioxide      density  \\\n",
      "count  6497.000000          6497.000000           6497.000000  6497.000000   \n",
      "mean      0.056034            30.525319            115.744574     0.994697   \n",
      "std       0.035034            17.749400             56.521855     0.002999   \n",
      "min       0.009000             1.000000              6.000000     0.987110   \n",
      "25%       0.038000            17.000000             77.000000     0.992340   \n",
      "50%       0.047000            29.000000            118.000000     0.994890   \n",
      "75%       0.065000            41.000000            156.000000     0.996990   \n",
      "max       0.611000           289.000000            440.000000     1.038980   \n",
      "\n",
      "                pH    sulphates      alcohol      quality  \n",
      "count  6497.000000  6497.000000  6497.000000  6497.000000  \n",
      "mean      3.218501     0.531268    10.491801     5.818378  \n",
      "std       0.160787     0.148806     1.192712     0.873255  \n",
      "min       2.720000     0.220000     8.000000     3.000000  \n",
      "25%       3.110000     0.430000     9.500000     5.000000  \n",
      "50%       3.210000     0.510000    10.300000     6.000000  \n",
      "75%       3.320000     0.600000    11.300000     6.000000  \n",
      "max       4.010000     2.000000    14.900000     9.000000  \n"
     ]
    }
   ],
   "source": [
    "# Summary statistics for each feature available in the dataset\n",
    "print(\"\\nSummary statistics for each feature available in the dataset:\")\n",
    "print(df.describe())\n"
   ]
  },
  {
   "cell_type": "markdown",
   "id": "2b0e2cdd",
   "metadata": {},
   "source": [
    "### 1.2 Data Visualization [25 Points]\n",
    "\n",
    "**Histograms**: To illustrate the feature distributions, create a histogram for each feature in the dataset. You may plot each histogram individually or combine them all into a single plot. When generating histograms for this assignment, use the default number of bins. Recall that a histogram provides a graphical representation of the distribution of the data.\n",
    "\n",
    "**Box Plots**: To further assess the data, create a boxplot for each feature in the dataset. All of the boxplots will be combined into a single plot. Recall that a boxplot provides a graphical representation of the location and variation of the data through their quartiles; they are especially useful for comparing distributions and identifying outliers.\n",
    "\n",
    "**Pairwise Plot**: To understand the relationship between the features, create scatter plot for each pair of the features. If there are n features in the dataset, there should be nC2 plots.\n",
    "\n",
    "**Class-wise Visualization**: Create pairwise plots for each pair of features in a similar way for each of the different classes present in the data.\n",
    "\n"
   ]
  },
  {
   "cell_type": "markdown",
   "id": "c50f3482",
   "metadata": {},
   "source": [
    "### 1.3 Conceptual Questions [25 Points]\n",
    "\n",
    "Answer the following questions about the analysis you just performed. Include the answers to these questions as text content (using markdown or text cells on Jupyter notebook) in the same notebook file used for visualization.\n",
    "\n",
    "1. How many features are there? What are the types of the features (e.g., numeric, nominal, discrete, continuous)?\n"
   ]
  },
  {
   "cell_type": "markdown",
   "id": "86f08f33",
   "metadata": {},
   "source": [
    "2. What can you conclude from the histograms about the distribution of the features in the dataset? Are there any features that are approximately normally distributed? Are there any features that are highly skewed?\n"
   ]
  },
  {
   "cell_type": "markdown",
   "id": "64114b25",
   "metadata": {},
   "source": [
    "3. Based on the box plots, are there any features that appear to have many outliers? Are there any features that appear to have a similar spread of values across different quality ratings? Are there any features that appear to have different spreads of values across different quality ratings?\n"
   ]
  },
  {
   "cell_type": "markdown",
   "id": "a30ba7f6",
   "metadata": {},
   "source": [
    "4. Based on the pairwise plots, which features appear to be highly correlated? Are there any features that do not appear to be correlated with any other features?\n"
   ]
  },
  {
   "cell_type": "markdown",
   "id": "1eab8257",
   "metadata": {},
   "source": [
    "5. Based on the class-wise visualizations, are there any pairs of features that appear to be more correlated for certain wine types than for others?"
   ]
  },
  {
   "cell_type": "markdown",
   "id": "f59cf892",
   "metadata": {},
   "source": [
    "## 2 Forest Fires Dataset [40 Points]\n",
    "\n",
    "The Forest Fires dataset is a dataset of meteorological and other data from Portugal that is used to predict the size of forest fires. You can download the dataset from the UCI Machine Learning Repository here (http://archive.ics.uci.edu/ml/machine-learning-databases/forest-fires/forestfires.csv).\n",
    "\n",
    "The dataset includes information about the location and date of the fire, as well as variables such as temperature, humidity, wind speed, and rain, among others.\n",
    "A description of this dataset can be found here (http://archive.ics.uci.edu/ml/datasets/Forest+Fires).\n",
    "\n",
    "### 2.1 Summary Statistics [5 Points]\n",
    "\n",
    "Similarly as in Section 1, Compute and display summary statistics for each feature available\n",
    "in the dataset. These must include 1) minimum value, 2) maximum value, 3) mean, 4) range,\n",
    "1) standard deviation, 6) variance, 7) count, 8) 25:50:75 percentiles.\n",
    "\n",
    "### 2.2 Data Visualization [15 Points]\n",
    "\n",
    "As done in Section 1, create histograms and boxplots for the dataset. Now, create another\n",
    "boxplot without the outliers. You can use showfliers=False to remove outliers from the\n",
    "boxplots. You are expected to present two Boxplots in total.\n",
    "\n",
    "### 2.3 Conceptual Questions [20 Points]\n",
    "\n",
    "Answer the following questions about the analysis you just performed. Include the answers\n",
    "to this questions as text content (using markdown or text cells on Jupyter notebook) in the\n",
    "same notebook file used for visualization.\n",
    "1. From the boxplot without outliers, which features has a significantly different distribu-\n",
    "tion from others? Why?\n",
    "1. What does the outlier in the features mean? If you remove the outliers from the dataset,\n",
    "what problems might arise?\n",
    "1. Create a histogram for only FFMC after removing all the values outside of range [88,\n",
    "96].\n",
    "1. What distribution does the new histogram follow?"
   ]
  }
 ],
 "metadata": {
  "kernelspec": {
   "display_name": "Python 3",
   "language": "python",
   "name": "python3"
  },
  "language_info": {
   "codemirror_mode": {
    "name": "ipython",
    "version": 3
   },
   "file_extension": ".py",
   "mimetype": "text/x-python",
   "name": "python",
   "nbconvert_exporter": "python",
   "pygments_lexer": "ipython3",
   "version": "3.12.1"
  }
 },
 "nbformat": 4,
 "nbformat_minor": 5
}
